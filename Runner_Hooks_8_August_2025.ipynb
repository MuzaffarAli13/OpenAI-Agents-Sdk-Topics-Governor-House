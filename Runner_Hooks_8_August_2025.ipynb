{
  "nbformat": 4,
  "nbformat_minor": 0,
  "metadata": {
    "colab": {
      "provenance": [],
      "generative_ai_disabled": true,
      "include_colab_link": true
    },
    "kernelspec": {
      "name": "python3",
      "display_name": "Python 3"
    },
    "language_info": {
      "name": "python"
    }
  },
  "cells": [
    {
      "cell_type": "markdown",
      "metadata": {
        "id": "view-in-github",
        "colab_type": "text"
      },
      "source": [
        "<a href=\"https://colab.research.google.com/github/MuzaffarAli13/OpenAI-Agents-Sdk-Topics-Governor-House/blob/main/Runner_Hooks_8_August_2025.ipynb\" target=\"_parent\"><img src=\"https://colab.research.google.com/assets/colab-badge.svg\" alt=\"Open In Colab\"/></a>"
      ]
    },
    {
      "cell_type": "markdown",
      "source": [
        "## Install openai-agents SDK\n"
      ],
      "metadata": {
        "id": "ByaXOi8VWifg"
      }
    },
    {
      "cell_type": "code",
      "source": [
        "!pip install -Uq openai-agents"
      ],
      "metadata": {
        "colab": {
          "base_uri": "https://localhost:8080/"
        },
        "id": "a94qGzuGWf84",
        "outputId": "f5f981d9-c091-45af-da42-6a24b2965246",
        "collapsed": true
      },
      "execution_count": null,
      "outputs": [
        {
          "output_type": "stream",
          "name": "stdout",
          "text": [
            "\u001b[2K     \u001b[90m━━━━━━━━━━━━━━━━━━━━━━━━━━━━━━━━━━━━━━━\u001b[0m \u001b[32m68.2/68.2 kB\u001b[0m \u001b[31m872.4 kB/s\u001b[0m eta \u001b[36m0:00:00\u001b[0m\n",
            "\u001b[2K   \u001b[90m━━━━━━━━━━━━━━━━━━━━━━━━━━━━━━━━━━━━━━━━\u001b[0m \u001b[32m166.1/166.1 kB\u001b[0m \u001b[31m3.1 MB/s\u001b[0m eta \u001b[36m0:00:00\u001b[0m\n",
            "\u001b[2K   \u001b[90m━━━━━━━━━━━━━━━━━━━━━━━━━━━━━━━━━━━━━━━━\u001b[0m \u001b[32m138.7/138.7 kB\u001b[0m \u001b[31m2.3 MB/s\u001b[0m eta \u001b[36m0:00:00\u001b[0m\n",
            "\u001b[2K   \u001b[90m━━━━━━━━━━━━━━━━━━━━━━━━━━━━━━━━━━━━━━━━\u001b[0m \u001b[32m160.1/160.1 kB\u001b[0m \u001b[31m5.3 MB/s\u001b[0m eta \u001b[36m0:00:00\u001b[0m\n",
            "\u001b[2K   \u001b[90m━━━━━━━━━━━━━━━━━━━━━━━━━━━━━━━━━━━━━━━━\u001b[0m \u001b[32m786.8/786.8 kB\u001b[0m \u001b[31m11.3 MB/s\u001b[0m eta \u001b[36m0:00:00\u001b[0m\n",
            "\u001b[2K   \u001b[90m━━━━━━━━━━━━━━━━━━━━━━━━━━━━━━━━━━━━━━━━\u001b[0m \u001b[32m45.2/45.2 kB\u001b[0m \u001b[31m1.8 MB/s\u001b[0m eta \u001b[36m0:00:00\u001b[0m\n",
            "\u001b[?25h"
          ]
        }
      ]
    },
    {
      "cell_type": "markdown",
      "source": [
        "## Make your Notebook capable of running asynchronous functions."
      ],
      "metadata": {
        "id": "PzHyqlCAWoS7"
      }
    },
    {
      "cell_type": "code",
      "execution_count": null,
      "metadata": {
        "id": "h8EevV6nV9NV"
      },
      "outputs": [],
      "source": [
        "import nest_asyncio\n",
        "nest_asyncio.apply()"
      ]
    },
    {
      "cell_type": "markdown",
      "source": [
        "## Config"
      ],
      "metadata": {
        "id": "O2d0c2y9Wt1h"
      }
    },
    {
      "cell_type": "code",
      "source": [
        "from agents import (\n",
        "    AsyncOpenAI,\n",
        "    OpenAIChatCompletionsModel,\n",
        ")\n",
        "from google.colab import userdata"
      ],
      "metadata": {
        "id": "qrjpnOfoWvib"
      },
      "execution_count": null,
      "outputs": []
    },
    {
      "cell_type": "code",
      "source": [
        "gemini_api_key = userdata.get(\"GEMINI_API_KEY\")\n",
        "\n",
        "\n",
        "# Check if the API key is present; if not, raise an error\n",
        "if not gemini_api_key:\n",
        "    raise ValueError(\"GEMINI_API_KEY is not set. Please ensure it is defined in your .env file.\")\n",
        "\n",
        "#Reference: https://ai.google.dev/gemini-api/docs/openai\n",
        "external_client = AsyncOpenAI(\n",
        "    api_key=gemini_api_key,\n",
        "    base_url=\"https://generativelanguage.googleapis.com/v1beta/openai/\",\n",
        ")\n",
        "\n",
        "model = OpenAIChatCompletionsModel(\n",
        "    model=\"gemini-2.0-flash\",\n",
        "    openai_client=external_client\n",
        ")\n"
      ],
      "metadata": {
        "id": "u7VfmvETXAFt"
      },
      "execution_count": null,
      "outputs": []
    },
    {
      "cell_type": "code",
      "source": [
        "from agents import set_default_openai_client, set_tracing_disabled\n",
        "set_default_openai_client(external_client)\n",
        "set_tracing_disabled(True)"
      ],
      "metadata": {
        "id": "CdxKqRicXG9v"
      },
      "execution_count": null,
      "outputs": []
    },
    {
      "cell_type": "markdown",
      "source": [
        "## Learning Agent LifeCycle"
      ],
      "metadata": {
        "id": "ktT5wPVCXM24"
      }
    },
    {
      "cell_type": "code",
      "source": [
        "# Imports\n",
        "import asyncio\n",
        "import random\n",
        "from typing import Any\n",
        "\n",
        "from pydantic import BaseModel\n",
        "\n",
        "from agents import Agent, RunContextWrapper, RunHooks, Runner, Tool, function_tool\n"
      ],
      "metadata": {
        "id": "_69ZvaWlXMr_"
      },
      "execution_count": null,
      "outputs": []
    },
    {
      "cell_type": "code",
      "source": [
        "# Simple Run Hooks - tracks EVERYTHING in the run\n",
        "class MyRunnerHooks(RunHooks):\n",
        "    async def on_agent_start(self, context, agent):\n",
        "        # print(f\">> {agent.name} started.\")\n",
        "        print(\"on_agent_start in runner hooks:\", agent.name)\n",
        "\n",
        "    async def on_agent_end(self, context, agent, output):\n",
        "        # print(f\">> {agent.name} finished.\")\n",
        "        print(\"on_agent_end in runner hooks:\", agent.name)\n",
        "\n",
        "    async def on_tool_start(self, context, agent, tool):\n",
        "        # print(f\">> Agent {agent.name} call {tool.name}.\")\n",
        "        print(\"on_tool_start in runner hook\", agent.name, tool.name)\n",
        "\n",
        "    async def on_tool_end(self, context, agent, tool, result):\n",
        "        # print(f\">> Tool {tool.name} excecuted.\")\n",
        "        print(\"on_tool_end in runner hook\", agent.name, tool.name)\n",
        "        print(\"Tool Result:\", result)\n",
        "\n"
      ],
      "metadata": {
        "id": "BOaF9W6YXoh8"
      },
      "execution_count": null,
      "outputs": []
    },
    {
      "cell_type": "code",
      "source": [
        "# Simple tools\n",
        "@function_tool\n",
        "def check_order():\n",
        "    \"\"\"Check order status\"\"\"\n",
        "    return \"Order #123 is on the way!\"\n",
        "\n",
        "@function_tool\n",
        "def check_refund():\n",
        "    \"\"\"Check refund status\"\"\"\n",
        "    return \"Refund of $50 processed!\"\n",
        "\n",
        "\n",
        "# Create TWO agents no hooks on agent\n",
        "agent1 = Agent(\n",
        "    name=\"Order Agent\",\n",
        "    instructions=\"Check order status\",\n",
        "    tools=[check_order],\n",
        "    model=model,\n",
        "    # NOTE: NO hooks on this agent\n",
        ")\n",
        "\n",
        "agent2 = Agent(\n",
        "    name=\"Refund Agent\",\n",
        "    instructions=\"Check refund status\",\n",
        "    tools=[check_refund],\n",
        "    model=model,\n",
        "    # NOTE: NO hooks on this agent\n",
        ")\n"
      ],
      "metadata": {
        "id": "Fd2MSPaIahos"
      },
      "execution_count": null,
      "outputs": []
    },
    {
      "cell_type": "code",
      "source": [
        "async def main():\n",
        "\n",
        "    print('=' * 50)\n",
        "    print(\"RUN HOOKS DEMO\")\n",
        "    print('=' * 50)\n",
        "    print()\n",
        "\n",
        "    # Create runner hooks\n",
        "    run_hooks = MyRunnerHooks()\n",
        "\n",
        "    # Run 1: Order Agent\n",
        "    print(\"📦 Checking order...\")\n",
        "    result1 = await Runner.run(\n",
        "        starting_agent=agent1,\n",
        "        input=\"Check my order\",\n",
        "        hooks=run_hooks,\n",
        "    )\n",
        "    print(f\"\\n[ANSWER] {result1.final_output}\")\n",
        "\n",
        "\n",
        "    # Run 2: Refund Agent (same hooks can track this too!)\n",
        "    print(\"\\n💰 Checking refund...\")\n",
        "    result2 = await Runner.run(\n",
        "        starting_agent=agent2,\n",
        "        input=\"Check my refund\",\n",
        "        hooks=run_hooks, # <- SAME HOOKS ON THIS RUN\n",
        "    )\n",
        "\n",
        "    print(f\"\\n[ANSWER] {result2.final_output}\")\n",
        "\n",
        "asyncio.run(main())\n"
      ],
      "metadata": {
        "colab": {
          "base_uri": "https://localhost:8080/"
        },
        "id": "IHvjDlkMXVpo",
        "outputId": "44b52d22-b6f6-4c16-cbda-6c3903a0e4bc"
      },
      "execution_count": null,
      "outputs": [
        {
          "output_type": "stream",
          "name": "stdout",
          "text": [
            "==================================================\n",
            "RUN HOOKS DEMO\n",
            "==================================================\n",
            "\n",
            "📦 Checking order...\n",
            ">> Order Agent started.\n",
            ">> Agent Order Agent call check_order.\n",
            ">> Tool check_order excecuted.\n",
            "Tool Result: Order #123 is on the way!\n",
            ">> Order Agent finished.\n",
            "\n",
            "[ANSWER] OK. Order #123 is on the way!\n",
            "\n",
            "\n",
            "💰 Checking refund...\n",
            ">> Refund Agent started.\n",
            ">> Agent Refund Agent call check_refund.\n",
            ">> Tool check_refund excecuted.\n",
            "Tool Result: Refund of $50 processed!\n",
            ">> Refund Agent finished.\n",
            "\n",
            "[ANSWER] OK. I've checked your refund status. The refund of $50 has been processed.\n",
            "\n"
          ]
        }
      ]
    },
    {
      "cell_type": "markdown",
      "source": [
        "## Make a `main agent` that will handoff to `order agent` and `refund agent`.\n",
        "## Implement `on_handoff` hook"
      ],
      "metadata": {
        "id": "5cVCwzxFkeIO"
      }
    }
  ]
}
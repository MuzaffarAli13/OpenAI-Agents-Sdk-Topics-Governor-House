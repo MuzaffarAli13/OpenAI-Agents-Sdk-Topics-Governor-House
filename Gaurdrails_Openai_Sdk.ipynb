{
  "nbformat": 4,
  "nbformat_minor": 0,
  "metadata": {
    "colab": {
      "private_outputs": true,
      "provenance": [],
      "authorship_tag": "ABX9TyMRvxntNq6zOsqVv+deaJW8",
      "include_colab_link": true
    },
    "kernelspec": {
      "name": "python3",
      "display_name": "Python 3"
    },
    "language_info": {
      "name": "python"
    }
  },
  "cells": [
    {
      "cell_type": "markdown",
      "metadata": {
        "id": "view-in-github",
        "colab_type": "text"
      },
      "source": [
        "<a href=\"https://colab.research.google.com/github/MuzaffarAli13/OpenAI-Agents-Sdk-Topics-Governor-House/blob/main/Gaurdrails_Openai_Sdk.ipynb\" target=\"_parent\"><img src=\"https://colab.research.google.com/assets/colab-badge.svg\" alt=\"Open In Colab\"/></a>"
      ]
    },
    {
      "cell_type": "markdown",
      "source": [
        "# New Section"
      ],
      "metadata": {
        "id": "XHUDu4aeFJmi"
      }
    },
    {
      "cell_type": "markdown",
      "source": [
        "# Input Gaurdrails And Output Gaurdrails"
      ],
      "metadata": {
        "id": "X6a4E5U1FXDr"
      }
    },
    {
      "cell_type": "code",
      "source": [
        "import asyncio\n",
        "import os\n",
        "from dotenv import  load_dotenv\n",
        "from openai import AsyncOpenAI\n",
        "from agents import (\n",
        "    Agent,\n",
        "    GuardrailFunctionOutput,\n",
        "    InputGuardrailTripwireTriggered,\n",
        "    RunContextWrapper,\n",
        "    Runner,\n",
        "    OpenAIChatCompletionsModel,\n",
        "    GuardrailFunctionOutput,\n",
        "    OutputGuardrailTripwireTriggered,\n",
        "    TResponseInputItem,\n",
        "    input_guardrail,\n",
        "    output_guardrail,\n",
        "    set_tracing_disabled,\n",
        ")\n",
        "from pydantic import BaseModel\n",
        "\n",
        "\n",
        "load_dotenv()\n",
        "set_tracing_disabled(True)\n",
        "\n",
        "API_KEY = os.getenv(\"GEMINI_API_KEY\")\n",
        "\n",
        "external_client = AsyncOpenAI(\n",
        "    api_key=API_KEY,\n",
        "    base_url=\"https://generativelanguage.googleapis.com/v1beta/openai/\"\n",
        ")\n",
        "\n",
        "model = OpenAIChatCompletionsModel(\n",
        "    model=\"gemini-2.5-flash\",\n",
        "    openai_client=external_client\n",
        ")\n",
        "\n",
        "# -------- input types checker\n",
        "class CheckJobRequest(BaseModel):\n",
        "    is_illegal:bool\n",
        "    reasoning: str\n",
        "\n",
        "# input guardrails agent ----- input analyzr\n",
        "input_guardrail_agent = Agent(\n",
        "    name=\"Input Guardrail Check Agent\",\n",
        "    instructions=\"Check if the user is asking for an illegal or unethical job.\",\n",
        "    model=model,\n",
        "    output_type=CheckJobRequest\n",
        ")\n",
        "\n",
        "# input guard agent\n",
        "@input_guardrail\n",
        "async def illegal_job_guardrail(\n",
        "    # ctx,agent,input):\n",
        "    ctx:RunContextWrapper[None],agent:Agent,input:str | list[TResponseInputItem]\n",
        "    )->GuardrailFunctionOutput:\n",
        "\n",
        "    result = await Runner.run(input_guardrail_agent,input,context=ctx.context)\n",
        "    return GuardrailFunctionOutput(\n",
        "        output_info=result.final_output,\n",
        "        tripwire_triggered=result.final_output.is_illegal\n",
        "    )\n",
        "\n",
        "\n",
        "#   output guardrails agents\n",
        "# -----------output types  agent response checker\n",
        "class JobResponse(BaseModel):\n",
        "    response: str\n",
        "\n",
        "class CheckOutput(BaseModel):\n",
        "    is_fake_job: bool\n",
        "    reasoning: str\n",
        "\n",
        "output_guardrail_agent = Agent(\n",
        "    name=\"Output Guardrail Checker\",\n",
        "    instructions=\"Check if the response contains a fake or unethical job suggestion.\",\n",
        "    output_type=CheckOutput,\n",
        "    model=model\n",
        ")\n",
        "\n",
        "# -------------Input Guardrail Function--------------\n",
        "@output_guardrail\n",
        "async def fake_job_output_guardrail(\n",
        "    # ctx,agent,input):\n",
        "    ctx:RunContextWrapper[None],agent:Agent,output:JobResponse\n",
        "    )->GuardrailFunctionOutput:\n",
        "    result = await Runner.run(output_guardrail_agent,output.response,context=ctx.context)\n",
        "    return GuardrailFunctionOutput(\n",
        "        output_info=result.final_output,\n",
        "        tripwire_triggered=result.final_output.is_fake_job,\n",
        "\n",
        "    )\n",
        "\n",
        "\n",
        "job_finder=Agent(\n",
        "    name=\"Job Finder Agent\",\n",
        "    instructions=\"Check if the user is asking for an illegal or unethical job.\",\n",
        "    model=model,\n",
        "    input_guardrails=[illegal_job_guardrail],\n",
        "    output_guardrails=[fake_job_output_guardrail],\n",
        "    output_type=JobResponse\n",
        ")\n",
        "\n",
        "async def main():\n",
        "     try:\n",
        "         result = await Runner.run(\n",
        "         job_finder,\n",
        "         input=\"find a best agentc Ai Job..\",\n",
        "        )\n",
        "         print(result.final_output)\n",
        "     except InputGuardrailTripwireTriggered:\n",
        "         print(\"❌ Illegal job guardrail tripped – Input blocked.\")\n",
        "     except OutputGuardrailTripwireTriggered:\n",
        "         print(\"❌ Illegal job guardrail tripped – Input blocked.\")\n",
        "\n",
        "\n",
        "if __name__ == \"__main__\":\n",
        "    asyncio.run(main())"
      ],
      "metadata": {
        "id": "TEZMadHVFddV"
      },
      "execution_count": null,
      "outputs": []
    }
  ]
}
{
  "nbformat": 4,
  "nbformat_minor": 0,
  "metadata": {
    "colab": {
      "provenance": [],
      "generative_ai_disabled": true,
      "include_colab_link": true
    },
    "kernelspec": {
      "name": "python3",
      "display_name": "Python 3"
    },
    "language_info": {
      "name": "python"
    }
  },
  "cells": [
    {
      "cell_type": "markdown",
      "metadata": {
        "id": "view-in-github",
        "colab_type": "text"
      },
      "source": [
        "<a href=\"https://colab.research.google.com/github/MuzaffarAli13/OpenAI-Agents-Sdk-Topics-Governor-House/blob/main/Agent_Hooks_8_August_2025.ipynb\" target=\"_parent\"><img src=\"https://colab.research.google.com/assets/colab-badge.svg\" alt=\"Open In Colab\"/></a>"
      ]
    },
    {
      "cell_type": "markdown",
      "source": [
        "## Install openai-agents SDK\n"
      ],
      "metadata": {
        "id": "ByaXOi8VWifg"
      }
    },
    {
      "cell_type": "code",
      "source": [
        "!pip install -Uq openai-agents"
      ],
      "metadata": {
        "colab": {
          "base_uri": "https://localhost:8080/"
        },
        "id": "a94qGzuGWf84",
        "outputId": "8f654e19-ca58-4933-d4a8-da1fa96d22cb"
      },
      "execution_count": null,
      "outputs": [
        {
          "output_type": "stream",
          "name": "stdout",
          "text": [
            "\u001b[2K     \u001b[90m━━━━━━━━━━━━━━━━━━━━━━━━━━━━━━━━━━━━━━━━\u001b[0m \u001b[32m68.2/68.2 kB\u001b[0m \u001b[31m2.8 MB/s\u001b[0m eta \u001b[36m0:00:00\u001b[0m\n",
            "\u001b[2K   \u001b[90m━━━━━━━━━━━━━━━━━━━━━━━━━━━━━━━━━━━━━━━━\u001b[0m \u001b[32m166.1/166.1 kB\u001b[0m \u001b[31m9.4 MB/s\u001b[0m eta \u001b[36m0:00:00\u001b[0m\n",
            "\u001b[2K   \u001b[90m━━━━━━━━━━━━━━━━━━━━━━━━━━━━━━━━━━━━━━━━\u001b[0m \u001b[32m138.7/138.7 kB\u001b[0m \u001b[31m10.8 MB/s\u001b[0m eta \u001b[36m0:00:00\u001b[0m\n",
            "\u001b[2K   \u001b[90m━━━━━━━━━━━━━━━━━━━━━━━━━━━━━━━━━━━━━━━━\u001b[0m \u001b[32m160.1/160.1 kB\u001b[0m \u001b[31m8.7 MB/s\u001b[0m eta \u001b[36m0:00:00\u001b[0m\n",
            "\u001b[2K   \u001b[90m━━━━━━━━━━━━━━━━━━━━━━━━━━━━━━━━━━━━━━━━\u001b[0m \u001b[32m786.8/786.8 kB\u001b[0m \u001b[31m30.0 MB/s\u001b[0m eta \u001b[36m0:00:00\u001b[0m\n",
            "\u001b[2K   \u001b[90m━━━━━━━━━━━━━━━━━━━━━━━━━━━━━━━━━━━━━━━━\u001b[0m \u001b[32m45.2/45.2 kB\u001b[0m \u001b[31m3.4 MB/s\u001b[0m eta \u001b[36m0:00:00\u001b[0m\n",
            "\u001b[?25h"
          ]
        }
      ]
    },
    {
      "cell_type": "markdown",
      "source": [
        "## Make your Notebook capable of running asynchronous functions."
      ],
      "metadata": {
        "id": "PzHyqlCAWoS7"
      }
    },
    {
      "cell_type": "code",
      "execution_count": null,
      "metadata": {
        "id": "h8EevV6nV9NV"
      },
      "outputs": [],
      "source": [
        "import nest_asyncio\n",
        "nest_asyncio.apply()"
      ]
    },
    {
      "cell_type": "markdown",
      "source": [
        "## Config"
      ],
      "metadata": {
        "id": "O2d0c2y9Wt1h"
      }
    },
    {
      "cell_type": "code",
      "source": [
        "from agents import (\n",
        "    AsyncOpenAI,\n",
        "    OpenAIChatCompletionsModel,\n",
        ")\n",
        "from google.colab import userdata"
      ],
      "metadata": {
        "id": "qrjpnOfoWvib"
      },
      "execution_count": null,
      "outputs": []
    },
    {
      "cell_type": "code",
      "source": [
        "gemini_api_key = userdata.get(\"GEMINI_API_KEY\")\n",
        "\n",
        "\n",
        "# Check if the API key is present; if not, raise an error\n",
        "if not gemini_api_key:\n",
        "    raise ValueError(\"GEMINI_API_KEY is not set. Please ensure it is defined in your .env file.\")\n",
        "\n",
        "#Reference: https://ai.google.dev/gemini-api/docs/openai\n",
        "external_client = AsyncOpenAI(\n",
        "    api_key=gemini_api_key,\n",
        "    base_url=\"https://generativelanguage.googleapis.com/v1beta/openai/\",\n",
        ")\n",
        "\n",
        "model = OpenAIChatCompletionsModel(\n",
        "    model=\"gemini-2.0-flash\",\n",
        "    openai_client=external_client\n",
        ")\n"
      ],
      "metadata": {
        "id": "u7VfmvETXAFt"
      },
      "execution_count": null,
      "outputs": []
    },
    {
      "cell_type": "code",
      "source": [
        "from agents import set_default_openai_client, set_tracing_disabled\n",
        "set_default_openai_client(external_client)\n",
        "set_tracing_disabled(True)"
      ],
      "metadata": {
        "id": "CdxKqRicXG9v"
      },
      "execution_count": null,
      "outputs": []
    },
    {
      "cell_type": "markdown",
      "source": [
        "## Learning Agent LifeCycle"
      ],
      "metadata": {
        "id": "ktT5wPVCXM24"
      }
    },
    {
      "cell_type": "code",
      "source": [
        "# Imports\n",
        "import asyncio\n",
        "import random\n",
        "from typing import Any\n",
        "\n",
        "from pydantic import BaseModel\n",
        "\n",
        "from agents import Agent, RunContextWrapper, AgentHooks, Runner, Tool, function_tool\n"
      ],
      "metadata": {
        "id": "_69ZvaWlXMr_"
      },
      "execution_count": null,
      "outputs": []
    },
    {
      "cell_type": "code",
      "source": [
        "\n",
        "# Base model for context\n",
        "class Order(BaseModel):\n",
        "    order_id: str\n",
        "    customer_name: str\n",
        "    amount: float\n",
        "\n",
        "# Simple Agent Hooks - track what one agent does\n",
        "class SimpleAgentHooks(AgentHooks):\n",
        "    async def on_start(self, context: RunContextWrapper, agent: Agent) -> None:\n",
        "        \"\"\"The agent is starting\"\"\"\n",
        "        # print(f\"[START] Agent '{agent.name}' started.\")\n",
        "        print(\"agent started during class\")\n",
        "\n",
        "    async def on_end(self, context: RunContextWrapper, agent: Agent, output: Any) -> None:\n",
        "        \"\"\"This agent finished\"\"\"\n",
        "        print(f\"[END] Agent '{agent.name}' finished.\")\n",
        "\n",
        "    async def on_tool_start(self, context: RunContextWrapper, agent: Agent, tool: Tool) -> None:\n",
        "        \"\"\"The agent is using tool\"\"\"\n",
        "        # print(f\"[TOOL START] Agent '{agent.name}' is using tool '{tool.name}'.\")\n",
        "        print(\"refund order tool started during class\")\n",
        "\n",
        "    async def on_tool_end(self, context: RunContextWrapper, agent: Agent, tool: Tool, result: str) -> None:\n",
        "        \"\"\"The agent's tool finished'\"\"\"\n",
        "        # print(f\"[TOOL END] Tool '{tool.name}' done. Result: {result}\")\n",
        "        print(\"refund order tool finished during class\")\n"
      ],
      "metadata": {
        "id": "BOaF9W6YXoh8"
      },
      "execution_count": null,
      "outputs": []
    },
    {
      "cell_type": "code",
      "source": [
        "# Simple tool - uses context wrapper\n",
        "@function_tool\n",
        "def refund_order(wrapper: RunContextWrapper[Order]):\n",
        "    \"\"\"Process a refund for the customer order\"\"\"\n",
        "    print(\"refund_order tool is being called.\")\n",
        "    order = wrapper.context\n",
        "    return f\"Refund of ${order.amount} processed for order {order.order_id} (Customer: {order.customer_name})\"\n",
        "\n",
        "# Create hooks for our agent\n",
        "my_hooks = SimpleAgentHooks()\n",
        "\n",
        "# Create agent with hooks attached\n",
        "support_agent = Agent(\n",
        "    name=\"Support Bot\",\n",
        "    instructions=\"\"\"You are a customer support agent. You must use the refund_order tool to process refunds.\n",
        "    IMPORTANT: Always call the refund_order tool when someone ask about a refund. Do not just say you'll process it actually use the tool\"\"\",\n",
        "    tools=[refund_order],\n",
        "    model=model,\n",
        "    hooks=my_hooks # <- HOOKS ATTACHED TO THIS AGENT\n",
        ")\n",
        "\n"
      ],
      "metadata": {
        "id": "Fd2MSPaIahos"
      },
      "execution_count": null,
      "outputs": []
    },
    {
      "cell_type": "code",
      "source": [
        "async def main():\n",
        "\n",
        "    print('=' * 50)\n",
        "    print(\"AGENT HOOKS DEMO\")\n",
        "    print('=' * 50)\n",
        "\n",
        "    # Create order context\n",
        "    order = Order(\n",
        "        order_id=\"ORD-12345\",\n",
        "        customer_name=\"Jhon Doe\",\n",
        "        amount=99.99,\n",
        "    )\n",
        "\n",
        "    # Run the agent with context\n",
        "    result = await Runner.run(\n",
        "        starting_agent=support_agent,\n",
        "        input=\"I need a refund for my order. Please process my refund\",\n",
        "        context=order,\n",
        "    )\n",
        "\n",
        "    print(f\"\\n[ANSWER] {result.final_output}\")\n",
        "\n",
        "asyncio.run(main())\n"
      ],
      "metadata": {
        "colab": {
          "base_uri": "https://localhost:8080/"
        },
        "id": "IHvjDlkMXVpo",
        "outputId": "b46bf019-cfcb-42a9-9d39-6fe174e86481"
      },
      "execution_count": null,
      "outputs": [
        {
          "output_type": "stream",
          "name": "stdout",
          "text": [
            "==================================================\n",
            "AGENT HOOKS DEMO\n",
            "==================================================\n",
            "[START] Agent 'Support Bot' started.\n",
            "[TOOL START] Agent 'Support Bot' is using tool 'refund_order'.\n",
            "refund_order tool is being called.\n",
            "refund order tool finished during class\n",
            "[END] Agent 'Support Bot' finished.\n",
            "\n",
            "[ANSWER] OK. I have processed a refund of $99.99 for your order. The order number is ORD-12345 and the customer name is Jhon Doe.\n",
            "\n"
          ]
        }
      ]
    }
  ]
}